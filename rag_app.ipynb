{
  "nbformat": 4,
  "nbformat_minor": 0,
  "metadata": {
    "colab": {
      "provenance": []
    },
    "kernelspec": {
      "name": "python3",
      "display_name": "Python 3"
    },
    "language_info": {
      "name": "python"
    }
  },
  "cells": [
    {
      "cell_type": "markdown",
      "source": [
        "# Overview\n",
        "\n",
        "This is a small RAG app that answers questions about American Airlines annual financial results (see https://americanairlines.gcs-web.com/financial-results/financial-aal). A few PDFs were taken from here and ingested into a vectorstore.\n",
        "\n",
        "The first section contains rough prototyping on a few pages of a single PDF document, which is loaded into an in-memory vectorstore.\n",
        "\n",
        "After working on the small example, I wrote a script that would create the vectorstore for large PDFs. The script works in batches and is intentionally slow, since I'm using the free Google LLM service, which is rate-limited. The batch processing is done to avoid quota limits and to create checkpoints during embedding so that if quota limit is reached and an error is thrown, we won't lose any progress. I used this for a ~900 page PDF. The total embedding process took around 25 minutes and used 5.6k tokens.\n",
        "\n",
        "The full dataset consists of 9 PDFs with a mean length of 384 pages.\n",
        "\n",
        "Once the embedding is complete, we load it and use it for RAG as usual.\n",
        "\n",
        "Since this makes API calls to Gemini, you'll need to enter your API key if you want to run the notebook. If you don't already have one, you can get it here (https://aistudio.google.com/app/apikey) The script also makes API calls to Gemini."
      ],
      "metadata": {
        "id": "E6IV3TlOMiBg"
      }
    },
    {
      "cell_type": "markdown",
      "source": [
        "# To-do\n",
        "\n",
        "* Write more tests\n",
        "\n",
        "    - A query generation LLM could potentially be used as an LLM that generates unit tests and runs against a judge LLM or has results verified by human input\n",
        "\n",
        "* Experiment with faster ways to ingest PDFs without using paid version of Gemini\n",
        "    - Run experiments with different chunking strategies. Currently, we're limited by the number of API calls, but we could potentially just make larger calls. Not clear at the moment what the limits are.\n",
        "\n",
        "* Investigate scale\n",
        "    - Get Databricks certification. Databricks can do data hosting, distributed computing, and serving the endpoint."
      ],
      "metadata": {
        "id": "kN9rFiLHGfVw"
      }
    },
    {
      "cell_type": "markdown",
      "source": [
        "# Prelims"
      ],
      "metadata": {
        "id": "rZqyR63yDM2Z"
      }
    },
    {
      "cell_type": "code",
      "source": [
        "from google.colab import drive\n",
        "drive.mount('/content/drive')"
      ],
      "metadata": {
        "colab": {
          "base_uri": "https://localhost:8080/"
        },
        "id": "jYuLrlIp8X4e",
        "outputId": "8b13bb55-847b-44bc-8dc6-cec93ea6b2a2"
      },
      "execution_count": 4,
      "outputs": [
        {
          "output_type": "stream",
          "name": "stdout",
          "text": [
            "Drive already mounted at /content/drive; to attempt to forcibly remount, call drive.mount(\"/content/drive\", force_remount=True).\n"
          ]
        }
      ]
    },
    {
      "cell_type": "code",
      "source": [
        "!pip install -q pypdf langchain faiss-cpu tiktoken langchain-community langgraph tdqm langchain-google-genai==2.0.10"
      ],
      "metadata": {
        "collapsed": true,
        "id": "rsR6iMKNwJ43"
      },
      "execution_count": 6,
      "outputs": []
    },
    {
      "cell_type": "code",
      "source": [
        "import os\n",
        "import getpass\n",
        "import faiss\n",
        "\n",
        "from langchain                              import hub\n",
        "from typing_extensions                      import List, TypedDict\n",
        "\n",
        "from langchain_community.vectorstores       import FAISS\n",
        "from langchain_community.document_loaders   import PyPDFLoader\n",
        "from langchain_core.documents               import Document\n",
        "from langchain_core.vectorstores            import InMemoryVectorStore\n",
        "from langchain_text_splitters               import RecursiveCharacterTextSplitter\n",
        "from langchain_google_genai                 import GoogleGenerativeAIEmbeddings\n",
        "\n",
        "from langgraph.graph                        import START, StateGraph, MessagesState\n",
        "from langgraph.checkpoint.memory            import MemorySaver\n",
        "\n",
        "from langchain.chat_models                  import init_chat_model\n",
        "from langchain_core.prompts                 import PromptTemplate\n",
        "from langgraph.prebuilt                     import ToolNode\n",
        "\n",
        "from langchain_core.tools                   import tool\n",
        "from langchain_core.messages                import SystemMessage\n",
        "from langgraph.graph                        import END\n",
        "from langgraph.prebuilt                     import ToolNode, tools_condition\n",
        "\n",
        "\n",
        "if not os.environ.get(\"GOOGLE_API_KEY\"):\n",
        "  os.environ[\"GOOGLE_API_KEY\"] = getpass.getpass(\"Enter API key for Google Gemini: \")"
      ],
      "metadata": {
        "id": "4tk9HP0q32K5",
        "colab": {
          "base_uri": "https://localhost:8080/"
        },
        "outputId": "d3690fc5-6a7b-4bf1-83fb-9fc544bbc3fa"
      },
      "execution_count": 7,
      "outputs": [
        {
          "name": "stdout",
          "output_type": "stream",
          "text": [
            "Enter API key for Google Gemini: ··········\n"
          ]
        }
      ]
    },
    {
      "cell_type": "markdown",
      "source": [
        "# Small Example\n",
        "\n",
        "Loads a single test PDF that's only 9 pages."
      ],
      "metadata": {
        "id": "nLR_twEmERzj"
      }
    },
    {
      "cell_type": "code",
      "source": [
        "template = \"\"\"You are an analyst conducting financial due diligence for a private equity investment firm.\n",
        "Use the following pieces of context to answer the question at the end.\n",
        "If you don't know the answer, just say that you don't know, don't try to make up an answer.\n",
        "Explain your reasoning, and, if possible, provide citations for your results.\n",
        "\n",
        "{context}\n",
        "\n",
        "Question: {question}\n",
        "\n",
        "Helpful Answer:\"\"\"\n",
        "prompt = PromptTemplate.from_template(template)"
      ],
      "metadata": {
        "id": "AGp8u6ZFh4Kg"
      },
      "execution_count": null,
      "outputs": []
    },
    {
      "cell_type": "code",
      "source": [
        "llm     = init_chat_model(\"gemini-2.0-flash\", model_provider=\"google_genai\")\n",
        "\n",
        "class State(TypedDict):\n",
        "    question: str\n",
        "    context: List[Document]\n",
        "    answer: str\n",
        "\n",
        "def retrieve(state: State):\n",
        "    retrieved_docs = retriever.invoke(state[\"question\"])\n",
        "    return {\"context\": retrieved_docs}\n",
        "\n",
        "def generate(state: State):\n",
        "    docs_content = \"\\n\\n\".join(doc.page_content for doc in state[\"context\"])\n",
        "    messages = prompt.invoke({\"question\": state[\"question\"], \"context\": docs_content})\n",
        "    response = llm.invoke(messages)\n",
        "    return {\"answer\": response.content}\n",
        "\n",
        "graph_builder = StateGraph(State).add_sequence([retrieve, generate])\n",
        "graph_builder.add_edge(START, \"retrieve\")\n",
        "graph = graph_builder.compile()"
      ],
      "metadata": {
        "id": "wkgG6rGPh1c8"
      },
      "execution_count": null,
      "outputs": []
    },
    {
      "cell_type": "code",
      "source": [
        "TEST_PATH       = \"/content/drive/MyDrive/Colab Notebooks/Data/American Airlines Forms/small_pdf_test.pdf\"\n",
        "TEST_QUERY      = \"In which month did the Association of Professional Flight Attendants ratify a new collective bargaining agreement?\"\n",
        "\n",
        "# The correct answer to TEST_QUERY is September 2024. See paragraph 3 of page 9."
      ],
      "metadata": {
        "id": "gx4G3MkWCdlV"
      },
      "execution_count": null,
      "outputs": []
    },
    {
      "cell_type": "code",
      "source": [
        "loader          = PyPDFLoader(TEST_PATH, mode='single')\n",
        "docs            = loader.load()\n",
        "\n",
        "text_splitter   = RecursiveCharacterTextSplitter(chunk_size=1000, chunk_overlap=200)\n",
        "all_splits      = text_splitter.split_documents(docs)\n",
        "\n",
        "embeddings      = GoogleGenerativeAIEmbeddings(\n",
        "                        model=\"models/gemini-embedding-exp-03-07\",\n",
        "                        task_type=\"QUESTION_ANSWERING\"\n",
        "                                               )\n",
        "\n",
        "vector_store    = InMemoryVectorStore(embeddings)\n",
        "vector_store.add_documents(documents=all_splits)\n",
        "\n",
        "retriever = vector_store.as_retriever()\n",
        "\n",
        "retriever = vector_store.as_retriever()\n",
        "retrieved_documents = retriever.get_relevant_documents(TEST_QUERY)\n",
        "retrieved_documents[0].page_content"
      ],
      "metadata": {
        "id": "sFunxkYyLMbj"
      },
      "execution_count": null,
      "outputs": []
    },
    {
      "cell_type": "markdown",
      "source": [
        "# Medium sized example\n",
        "\n",
        "This and following sections work off the vectorstore generated by create_embedding.py."
      ],
      "metadata": {
        "id": "JYiqbzdHEYcp"
      }
    },
    {
      "cell_type": "code",
      "source": [
        "# embeddings      = GoogleGenerativeAIEmbeddings(\n",
        "#                         model=\"models/gemini-embedding-exp-03-07\",\n",
        "#                         task_type=\"QUESTION_ANSWERING\"\n",
        "#                                                )\n",
        "\n",
        "embeddings      = GoogleGenerativeAIEmbeddings(\n",
        "                        model=\"models/embedding-001\"\n",
        "                                               )\n",
        "###############     This is not the ideal model.\n",
        "### WARNING ###     Re-run the embeddingscript with exp-03-07 and then uncomment the first embedding\n",
        "###############\n",
        "\n",
        "vector_store = FAISS.load_local('/content/drive/MyDrive/Colab Notebooks/Data/final_vectorstore',\n",
        "                                embeddings,\n",
        "                                allow_dangerous_deserialization=True)"
      ],
      "metadata": {
        "id": "7XQf8mQrMAFT"
      },
      "execution_count": null,
      "outputs": []
    },
    {
      "cell_type": "code",
      "source": [
        "llm     = init_chat_model(\"gemini-2.0-flash\", model_provider=\"google_genai\")\n",
        "\n",
        "class State(TypedDict):\n",
        "    question: str\n",
        "    context: List[Document]\n",
        "    answer: str\n",
        "\n",
        "def retrieve(state: State):\n",
        "    retrieved_docs = retriever.invoke(state[\"question\"])\n",
        "    return {\"context\": retrieved_docs}\n",
        "\n",
        "def generate(state: State):\n",
        "    docs_content = \"\\n\\n\".join(doc.page_content for doc in state[\"context\"])\n",
        "    messages = prompt.invoke({\"question\": state[\"question\"], \"context\": docs_content})\n",
        "    response = llm.invoke(messages)\n",
        "    return {\"answer\": response.content}\n",
        "\n",
        "memory = MemorySaver()\n",
        "\n",
        "graph_builder = StateGraph(State).add_sequence([retrieve, generate])\n",
        "graph_builder.add_edge(START, \"retrieve\")\n",
        "graph = graph_builder.compile(checkpointer=memory)"
      ],
      "metadata": {
        "id": "-1td7pJK3kTB"
      },
      "execution_count": null,
      "outputs": []
    },
    {
      "cell_type": "code",
      "source": [
        "result = graph.invoke({\"question\": 'What were the total non-cash transactions for 2024?'})"
      ],
      "metadata": {
        "id": "zXsQYGtlFxfc"
      },
      "execution_count": null,
      "outputs": []
    },
    {
      "cell_type": "code",
      "source": [
        "print(result[\"answer\"])# This appears to be the correct answer."
      ],
      "metadata": {
        "colab": {
          "base_uri": "https://localhost:8080/"
        },
        "id": "FocJSH2UGiNx",
        "outputId": "2464a644-31d3-4dac-a3c7-c6d0149b226f"
      },
      "execution_count": null,
      "outputs": [
        {
          "output_type": "stream",
          "name": "stdout",
          "text": [
            "Based on the provided text, the total non-cash transactions for the first nine months of 2024 are calculated as follows:\n",
            "\n",
            "*   Right-of-use (ROU) assets acquired through operating leases: $775 million\n",
            "*   Property and equipment acquired through debt, finance leases and other: $193 million\n",
            "*   Operating leases converted to finance leases: $130 million\n",
            "*   Finance leases converted to operating leases: $33 million\n",
            "\n",
            "Total non-cash transactions = $775 + $193 + $130 + $33 = $1,131 million\n",
            "\n",
            "Therefore, the total non-cash transactions for the first nine months of 2024 were $1.131 billion.\n"
          ]
        }
      ]
    },
    {
      "cell_type": "markdown",
      "source": [
        "# Improving the model\n",
        "\n",
        "Added chat memory"
      ],
      "metadata": {
        "id": "G0x4ogDhsNoM"
      }
    },
    {
      "cell_type": "code",
      "source": [
        "embeddings      = GoogleGenerativeAIEmbeddings(\n",
        "                        model=\"models/embedding-001\"\n",
        "                                               )\n",
        "###############     This is not the ideal model.\n",
        "### WARNING ###     Re-run the embeddingscript with exp-03-07 and then uncomment the first embedding\n",
        "###############\n",
        "\n",
        "vector_store = FAISS.load_local('/content/drive/MyDrive/Colab Notebooks/Data/final_vectorstore',\n",
        "                                embeddings,\n",
        "                                allow_dangerous_deserialization=True)\n",
        "\n",
        "llm     = init_chat_model(\"gemini-2.0-flash\", model_provider=\"google_genai\")"
      ],
      "metadata": {
        "id": "HGOrRLiusVmQ"
      },
      "execution_count": 30,
      "outputs": []
    },
    {
      "cell_type": "code",
      "source": [
        "@tool(response_format=\"content_and_artifact\")\n",
        "def retrieve(query: str):\n",
        "    \"\"\"Retrieve information related to a query.\"\"\"\n",
        "    retrieved_docs = vector_store.similarity_search(query, k=2)\n",
        "    serialized = \"\\n\\n\".join(\n",
        "        (f\"Source: {doc.metadata}\\nContent: {doc.page_content}\")\n",
        "        for doc in retrieved_docs\n",
        "    )\n",
        "    return serialized, retrieved_docs"
      ],
      "metadata": {
        "id": "1a_mWADQsP87"
      },
      "execution_count": 31,
      "outputs": []
    },
    {
      "cell_type": "code",
      "source": [
        "# Step 1: Generate an AIMessage that may include a tool-call to be sent.\n",
        "def query_or_respond(state: MessagesState):\n",
        "    \"\"\"Generate tool call for retrieval or respond.\"\"\"\n",
        "    llm_with_tools = llm.bind_tools([retrieve])\n",
        "    response = llm_with_tools.invoke(state[\"messages\"])\n",
        "    # MessagesState appends messages to state instead of overwriting\n",
        "    return {\"messages\": [response]}\n",
        "\n",
        "\n",
        "# Step 2: Execute the retrieval.\n",
        "tools = ToolNode([retrieve])\n",
        "\n",
        "\n",
        "# Step 3: Generate a response using the retrieved content.\n",
        "def generate(state: MessagesState):\n",
        "    \"\"\"Generate answer.\"\"\"\n",
        "    # Get generated ToolMessages\n",
        "    recent_tool_messages = []\n",
        "    for message in reversed(state[\"messages\"]):\n",
        "        if message.type == \"tool\":\n",
        "            recent_tool_messages.append(message)\n",
        "        else:\n",
        "            break\n",
        "    tool_messages = recent_tool_messages[::-1]\n",
        "\n",
        "    # Format into prompt\n",
        "    docs_content = \"\\n\\n\".join(doc.content for doc in tool_messages)\n",
        "    system_message_content = (\n",
        "        \"You are an analyst conducting financial due diligence for a private equity investment firm.\"\n",
        "        \"Use the following pieces of context to answer the question at the end.\"\n",
        "        \"If you don't know the answer, just say that you don't know, don't try to make up an answer.\"\n",
        "        \"Explain your reasoning, and, if possible, provide citations for your results.\"\n",
        "        \"\\n\\n\"\n",
        "        f\"{docs_content}\"\n",
        "    )\n",
        "    conversation_messages = [\n",
        "        message\n",
        "        for message in state[\"messages\"]\n",
        "        if message.type in (\"human\", \"system\")\n",
        "        or (message.type == \"ai\" and not message.tool_calls)\n",
        "    ]\n",
        "    prompt = [SystemMessage(system_message_content)] + conversation_messages\n",
        "\n",
        "    response = llm.invoke(prompt)\n",
        "    return {\"messages\": [response]}"
      ],
      "metadata": {
        "id": "SsQgD888sf4A"
      },
      "execution_count": 17,
      "outputs": []
    },
    {
      "cell_type": "code",
      "source": [
        "graph_builder = StateGraph(MessagesState)\n",
        "\n",
        "graph_builder.add_node(query_or_respond)\n",
        "graph_builder.add_node(tools)\n",
        "graph_builder.add_node(generate)\n",
        "\n",
        "graph_builder.set_entry_point(\"query_or_respond\")\n",
        "graph_builder.add_conditional_edges(\n",
        "    \"query_or_respond\",\n",
        "    tools_condition,\n",
        "    {END: END, \"tools\": \"tools\"},\n",
        ")\n",
        "graph_builder.add_edge(\"tools\", \"generate\")\n",
        "graph_builder.add_edge(\"generate\", END)\n",
        "\n",
        "memory = MemorySaver()\n",
        "graph = graph_builder.compile(checkpointer=memory)"
      ],
      "metadata": {
        "id": "kKQoZ7nNuM74"
      },
      "execution_count": 32,
      "outputs": []
    },
    {
      "cell_type": "code",
      "source": [
        "config = {\"configurable\": {\"thread_id\": \"abc123\"}}"
      ],
      "metadata": {
        "id": "rJ5QcDh0wgF_"
      },
      "execution_count": 33,
      "outputs": []
    },
    {
      "cell_type": "code",
      "source": [
        "input_message = 'Hello.'\n",
        "\n",
        "for step in graph.stream(\n",
        "    {\"messages\": [{\"role\": \"user\", \"content\": input_message}]},\n",
        "    stream_mode=\"values\",\n",
        "    config=config\n",
        "):\n",
        "    step[\"messages\"][-1].pretty_print()"
      ],
      "metadata": {
        "colab": {
          "base_uri": "https://localhost:8080/"
        },
        "id": "XPNMrgEUumOt",
        "outputId": "352b8883-e44d-4d67-8047-f8ca91b0a572"
      },
      "execution_count": 27,
      "outputs": [
        {
          "output_type": "stream",
          "name": "stdout",
          "text": [
            "================================\u001b[1m Human Message \u001b[0m=================================\n",
            "\n",
            "Hello.\n",
            "==================================\u001b[1m Ai Message \u001b[0m==================================\n",
            "\n",
            "Hi there! Is there anything I can do for you?\n"
          ]
        }
      ]
    },
    {
      "cell_type": "code",
      "source": [
        "input_message = 'In which month did the Association of Professional Flight Attendants ratify a new collective bargaining agreement?'\n",
        "\n",
        "for step in graph.stream(\n",
        "    {\"messages\": [{\"role\": \"user\", \"content\": input_message}]},\n",
        "    stream_mode=\"values\",\n",
        "    config=config\n",
        "):\n",
        "    step[\"messages\"][-1].pretty_print()"
      ],
      "metadata": {
        "colab": {
          "base_uri": "https://localhost:8080/"
        },
        "id": "yUsu72CC3Hj9",
        "outputId": "d32076dd-aee6-4b6e-956d-4daf6f5f45fe"
      },
      "execution_count": 35,
      "outputs": [
        {
          "output_type": "stream",
          "name": "stdout",
          "text": [
            "================================\u001b[1m Human Message \u001b[0m=================================\n",
            "\n",
            "In which month did the Association of Professional Flight Attendants ratify a new collective bargaining agreement?\n",
            "==================================\u001b[1m Ai Message \u001b[0m==================================\n",
            "Tool Calls:\n",
            "  retrieve (12d4a1f0-b1dd-416c-b057-5a214c3139e6)\n",
            " Call ID: 12d4a1f0-b1dd-416c-b057-5a214c3139e6\n",
            "  Args:\n",
            "    query: ratification of collective bargaining agreement Association of Professional Flight Attendants\n",
            "=================================\u001b[1m Tool Message \u001b[0m=================================\n",
            "Name: retrieve\n",
            "\n",
            "Source: {'producer': 'KS - PDF Engine v1.2', 'creator': 'Chromium', 'creationdate': '2024-10-24T11:10:15+00:00', 'moddate': '2024-10-24T11:10:25+00:00', 'title': 'Form 10-Q for American Airlines Group INC filed 10/24/2024', 'author': 'Kaleidoscope - kscope.io', 'subject': '10-Q filed 10/24/2024', 'keywords': 'American Airlines Group INC 10-Q', 'source': 'C:/Users/19368/Repos/Personal/Scaylor Coding Challenge/american_airlines_pdfs/Q32024.pdf', 'total_pages': 981, 'page': 29, 'page_label': '30'}\n",
            "Content: statements in accordance with accounting principles generally accepted in the United States (GAAP) requires management to make certain\n",
            "estimates and assumptions that affect the reported amounts of assets and liabilities, revenues and expenses, and the disclosure of\n",
            "contingent assets and liabilities at the date of the financial statements. Actual results could differ from those estimates. The most significant\n",
            "areas of judgment relate to passenger revenue recognition, the loyalty program, deferred tax assets, as well as pension and retiree medical\n",
            "and other postretirement benefits.\n",
            "(b) Labor Relations\n",
            "In September 2024, American and the Association of Professional Flight Attendants, the union representing American’s mainline flight\n",
            "attendants, ratified a new collective bargaining agreement. This five-year agreement provides wage rate increases, quality-of-life benefits and\n",
            "\n",
            "Source: {'producer': 'KS - PDF Engine v1.2', 'creator': 'Chromium', 'creationdate': '2024-10-24T11:10:15+00:00', 'moddate': '2024-10-24T11:10:25+00:00', 'title': 'Form 10-Q for American Airlines Group INC filed 10/24/2024', 'author': 'Kaleidoscope - kscope.io', 'subject': '10-Q filed 10/24/2024', 'keywords': 'American Airlines Group INC 10-Q', 'source': 'C:/Users/19368/Repos/Personal/Scaylor Coding Challenge/american_airlines_pdfs/Q32024.pdf', 'total_pages': 981, 'page': 40, 'page_label': '41'}\n",
            "Content: Table of Contents\n",
            "In September 2024, American and the Association of Professional Flight Attendants (APFA), the union representing our mainline flight\n",
            "attendants, ratified a new collective bargaining agreement. This five-year agreement provides wage rate increases, quality-of-life benefits and\n",
            "other benefit-related items. The ratified agreement also included a provision for a one-time payment. During the third quarter of 2024, one-\n",
            "time charges resulting from the ratification of this new agreement were recorded as mainline operating special items, net in the condensed\n",
            "consolidated statement of operations, including the one-time payment of $514 million which is expected to be paid in November 2024.\n",
            "Revenue\n",
            "In the third quarter of 2024, we reported total operating revenues of $13.6 billion, an increase of $165 million, or 1.2%, as compared to the\n",
            "third quarter of 2023. Passenger revenue was $12.5 billion and remained relatively flat as compared to the third quarter of 2023. In the third\n",
            "==================================\u001b[1m Ai Message \u001b[0m==================================\n",
            "\n",
            "The Association of Professional Flight Attendants ratified a new collective bargaining agreement in September 2024.\n"
          ]
        }
      ]
    },
    {
      "cell_type": "code",
      "source": [
        "input_message = \"Were there payments involved? If so, for how much?\"\n",
        "\n",
        "for step in graph.stream(\n",
        "    {\"messages\": [{\"role\": \"user\", \"content\": input_message}]},\n",
        "    stream_mode=\"values\",\n",
        "    config=config,\n",
        "):\n",
        "    step[\"messages\"][-1].pretty_print()"
      ],
      "metadata": {
        "colab": {
          "base_uri": "https://localhost:8080/"
        },
        "id": "1JrNs19W3Sa9",
        "outputId": "608607f0-3d87-4b46-921f-6edda68bbd36"
      },
      "execution_count": 36,
      "outputs": [
        {
          "output_type": "stream",
          "name": "stdout",
          "text": [
            "================================\u001b[1m Human Message \u001b[0m=================================\n",
            "\n",
            "Were there payments involved? If so, for how much?\n",
            "==================================\u001b[1m Ai Message \u001b[0m==================================\n",
            "Tool Calls:\n",
            "  retrieve (4e7fe4d9-1c81-4cc1-8d43-02717d34cd83)\n",
            " Call ID: 4e7fe4d9-1c81-4cc1-8d43-02717d34cd83\n",
            "  Args:\n",
            "    query: payment amount related to ratification of collective bargaining agreement Association of Professional Flight Attendants September 2024\n",
            "=================================\u001b[1m Tool Message \u001b[0m=================================\n",
            "Name: retrieve\n",
            "\n",
            "Source: {'producer': 'KS - PDF Engine v1.2', 'creator': 'Chromium', 'creationdate': '2024-10-24T11:10:15+00:00', 'moddate': '2024-10-24T11:10:25+00:00', 'title': 'Form 10-Q for American Airlines Group INC filed 10/24/2024', 'author': 'Kaleidoscope - kscope.io', 'subject': '10-Q filed 10/24/2024', 'keywords': 'American Airlines Group INC 10-Q', 'source': 'C:/Users/19368/Repos/Personal/Scaylor Coding Challenge/american_airlines_pdfs/Q32024.pdf', 'total_pages': 981, 'page': 13, 'page_label': '14'}\n",
            "Content: and other postretirement benefits.\n",
            "(b) Labor Relations\n",
            "In September 2024, American and the Association of Professional Flight Attendants, the union representing our mainline flight attendants,\n",
            "ratified a new collective bargaining agreement. This five-year agreement provides wage rate increases, quality-of-life benefits and other\n",
            "benefit-related items. The ratified agreement also included a provision for a one-time payment. During the third quarter of 2024, one-time\n",
            "charges resulting from the ratification of this new agreement were recorded as mainline operating special items, net in the condensed\n",
            "consolidated statement of operations, including the one-time payment of $514 million which is expected to be paid in November 2024.\n",
            "2. Special Items, Net\n",
            "Special items, net in the condensed consolidated statements of operations consisted of the following (in millions):\n",
            " Three Months Ended September 30, Nine Months Ended September 30,\n",
            " 2024 2023 2024 2023\n",
            "\n",
            "Source: {'producer': 'KS - PDF Engine v1.2', 'creator': 'Chromium', 'creationdate': '2024-10-24T11:10:15+00:00', 'moddate': '2024-10-24T11:10:25+00:00', 'title': 'Form 10-Q for American Airlines Group INC filed 10/24/2024', 'author': 'Kaleidoscope - kscope.io', 'subject': '10-Q filed 10/24/2024', 'keywords': 'American Airlines Group INC 10-Q', 'source': 'C:/Users/19368/Repos/Personal/Scaylor Coding Challenge/american_airlines_pdfs/Q32024.pdf', 'total_pages': 981, 'page': 40, 'page_label': '41'}\n",
            "Content: Table of Contents\n",
            "In September 2024, American and the Association of Professional Flight Attendants (APFA), the union representing our mainline flight\n",
            "attendants, ratified a new collective bargaining agreement. This five-year agreement provides wage rate increases, quality-of-life benefits and\n",
            "other benefit-related items. The ratified agreement also included a provision for a one-time payment. During the third quarter of 2024, one-\n",
            "time charges resulting from the ratification of this new agreement were recorded as mainline operating special items, net in the condensed\n",
            "consolidated statement of operations, including the one-time payment of $514 million which is expected to be paid in November 2024.\n",
            "Revenue\n",
            "In the third quarter of 2024, we reported total operating revenues of $13.6 billion, an increase of $165 million, or 1.2%, as compared to the\n",
            "third quarter of 2023. Passenger revenue was $12.5 billion and remained relatively flat as compared to the third quarter of 2023. In the third\n",
            "==================================\u001b[1m Ai Message \u001b[0m==================================\n",
            "\n",
            "Yes, the ratified agreement included a provision for a one-time payment of $514 million, which is expected to be paid in November 2024.\n"
          ]
        }
      ]
    },
    {
      "cell_type": "code",
      "source": [
        "input_message = \"What are the key drivers of the company's cash flow and its working capital requirements?\"\n",
        "\n",
        "for step in graph.stream(\n",
        "    {\"messages\": [{\"role\": \"user\", \"content\": input_message}]},\n",
        "    stream_mode=\"values\",\n",
        "    config=config,\n",
        "):\n",
        "    step[\"messages\"][-1].pretty_print()"
      ],
      "metadata": {
        "colab": {
          "base_uri": "https://localhost:8080/"
        },
        "id": "TWU-TuQ97jpl",
        "outputId": "d80605f8-0643-4d1c-f9a2-17c4ba7a6fab"
      },
      "execution_count": 37,
      "outputs": [
        {
          "output_type": "stream",
          "name": "stdout",
          "text": [
            "================================\u001b[1m Human Message \u001b[0m=================================\n",
            "\n",
            "What are the key drivers of the company's cash flow and its working capital requirements?\n",
            "==================================\u001b[1m Ai Message \u001b[0m==================================\n",
            "Tool Calls:\n",
            "  retrieve (b2a3ea6f-365a-4199-bd23-23efc304775b)\n",
            " Call ID: b2a3ea6f-365a-4199-bd23-23efc304775b\n",
            "  Args:\n",
            "    query: key drivers of cash flow and working capital requirements for American Airlines\n",
            "=================================\u001b[1m Tool Message \u001b[0m=================================\n",
            "Name: retrieve\n",
            "\n",
            "Source: {'producer': 'KS - PDF Engine v1.2', 'creator': 'Chromium', 'creationdate': '2024-10-24T11:10:15+00:00', 'moddate': '2024-10-24T11:10:25+00:00', 'title': 'Form 10-Q for American Airlines Group INC filed 10/24/2024', 'author': 'Kaleidoscope - kscope.io', 'subject': '10-Q filed 10/24/2024', 'keywords': 'American Airlines Group INC 10-Q', 'source': 'C:/Users/19368/Repos/Personal/Scaylor Coding Challenge/american_airlines_pdfs/Q32024.pdf', 'total_pages': 981, 'page': 56, 'page_label': '57'}\n",
            "Content: connection with the financing of certain aircraft and repurchased $552 million of secured and unsecured notes in the open market.\n",
            "American\n",
            "Operating Activities\n",
            "American’s net cash provided by operating activities was $3.5 billion and $5.1 billion for the first nine months of 2024 and 2023,\n",
            "respectively, a period-over-period decrease of $1.6 billion. This decrease in operating cash flows from the 2023 period to the 2024 period\n",
            "was due to lower profitability in the first nine months of 2024 and net working capital changes. In addition, American contributed $292 million\n",
            "to its defined benefit pension plans in the first nine months of 2024 as compared to $67 million in the first nine months of 2023.\n",
            "Investing Activities\n",
            "American’s net cash used in investing activities was $1.8 billion and $2.6 billion for the first nine months of 2024 and 2023, respectively.\n",
            "\n",
            "Source: {'producer': 'KS - PDF Engine v1.2', 'creator': 'Chromium', 'creationdate': '2024-10-24T11:10:15+00:00', 'moddate': '2024-10-24T11:10:25+00:00', 'title': 'Form 10-Q for American Airlines Group INC filed 10/24/2024', 'author': 'Kaleidoscope - kscope.io', 'subject': '10-Q filed 10/24/2024', 'keywords': 'American Airlines Group INC 10-Q', 'source': 'C:/Users/19368/Repos/Personal/Scaylor Coding Challenge/american_airlines_pdfs/Q32024.pdf', 'total_pages': 981, 'page': 60, 'page_label': '61'}\n",
            "Content: manage the aggregate amount and cost of our debt, lease and other obligations or otherwise improve our balance sheet. Going forward,\n",
            "depending on market conditions, our cash position and other considerations, we may continue to take such actions, and the amounts\n",
            "involved may be material.\n",
            "Critical Accounting Policies and Estimates\n",
            "For information regarding our critical accounting policies and estimates, see disclosures in the Consolidated Financial Statements and\n",
            "accompanying notes contained in our 2023 Form 10-K.\n",
            "ITEM 3. QUANTITATIVE AND QUALITATIVE DISCLOSURES ABOUT MARKET RISK\n",
            "AAG’s and American’s Market Risk Sensitive Instruments and Positions\n",
            "Our primary market risk exposures include the price of aircraft fuel, foreign currency exchange rates and interest rate risk. Our exposure\n",
            "to these market risks has not changed materially from our exposure discussed in our 2023 Form 10-K except as updated below.\n",
            "Aircraft Fuel\n",
            "==================================\u001b[1m Ai Message \u001b[0m==================================\n",
            "\n",
            "Based on the provided text, the key drivers of American Airlines' cash flow and working capital requirements are:\n",
            "\n",
            "*   **Profitability:** Lower profitability in the first nine months of 2024 compared to 2023 led to a decrease in operating cash flows.\n",
            "*   **Net Working Capital Changes:** Changes in net working capital also contributed to the decrease in operating cash flows.\n",
            "*   **Pension Contributions:** Increased contributions to defined benefit pension plans in the first nine months of 2024 ($292 million vs. $67 million in 2023) impacted cash flow.\n",
            "*   **Aircraft Fuel Prices:** The price of aircraft fuel is a primary market risk exposure.\n",
            "*   **Debt Management:** Actions taken to manage debt, such as repurchasing secured and unsecured notes, impact cash flow. In the first nine months of 2024, American Airlines repurchased $552 million of secured and unsecured notes in the open market.\n"
          ]
        }
      ]
    },
    {
      "cell_type": "code",
      "source": [
        "input_message = \"Summarize American Airlines balance sheet for this period\"\n",
        "\n",
        "for step in graph.stream(\n",
        "    {\"messages\": [{\"role\": \"user\", \"content\": input_message}]},\n",
        "    stream_mode=\"values\",\n",
        "    config=config,\n",
        "):\n",
        "    step[\"messages\"][-1].pretty_print()"
      ],
      "metadata": {
        "colab": {
          "base_uri": "https://localhost:8080/"
        },
        "id": "fOV2bBm5-tA4",
        "outputId": "4c1b089c-e086-41d6-e7fc-bc2418272ea1"
      },
      "execution_count": 38,
      "outputs": [
        {
          "output_type": "stream",
          "name": "stdout",
          "text": [
            "================================\u001b[1m Human Message \u001b[0m=================================\n",
            "\n",
            "Summarize American Airlines balance sheet for this period\n",
            "==================================\u001b[1m Ai Message \u001b[0m==================================\n",
            "Tool Calls:\n",
            "  retrieve (1a6290d0-7e5a-4794-a30d-fc0f8dcd33d8)\n",
            " Call ID: 1a6290d0-7e5a-4794-a30d-fc0f8dcd33d8\n",
            "  Args:\n",
            "    query: American Airlines balance sheet summary for Q3 2024\n",
            "=================================\u001b[1m Tool Message \u001b[0m=================================\n",
            "Name: retrieve\n",
            "\n",
            "Source: {'producer': 'KS - PDF Engine v1.2', 'creator': 'Chromium', 'creationdate': '2024-10-24T11:10:15+00:00', 'moddate': '2024-10-24T11:10:25+00:00', 'title': 'Form 10-Q for American Airlines Group INC filed 10/24/2024', 'author': 'Kaleidoscope - kscope.io', 'subject': '10-Q filed 10/24/2024', 'keywords': 'American Airlines Group INC 10-Q', 'source': 'C:/Users/19368/Repos/Personal/Scaylor Coding Challenge/american_airlines_pdfs/Q32024.pdf', 'total_pages': 981, 'page': 2, 'page_label': '3'}\n",
            "Content: American Airlines Group Inc.\n",
            "American Airlines, Inc.\n",
            "Form 10-Q\n",
            "Quarterly Period Ended September 30, 2024\n",
            "Table of Contents\n",
            "  Page\n",
            "PART I: FINANCIAL INFORMATION\n",
            "Item 1A. Condensed Consolidated Financial Statements of American Airlines Group Inc. 6\n",
            "Condensed Consolidated Statements of Operations 6\n",
            "Condensed Consolidated Statements of Comprehensive Income (Loss) 7\n",
            "Condensed Consolidated Balance Sheets 8\n",
            "Condensed Consolidated Statements of Cash Flows 9\n",
            "Condensed Consolidated Statements of Stockholders’ Deficit 10\n",
            "Notes to the Condensed Consolidated Financial Statements 12\n",
            "Item 1B. Condensed Consolidated Financial Statements of American Airlines, Inc. 23\n",
            "Condensed Consolidated Statements of Operations 23\n",
            "Condensed Consolidated Statements of Comprehensive Income (Loss) 24\n",
            "Condensed Consolidated Balance Sheets 25\n",
            "Condensed Consolidated Statements of Cash Flows 26\n",
            "Condensed Consolidated Statements of Stockholder’s Equity 27\n",
            "Notes to the Condensed Consolidated Financial Statements 28\n",
            "\n",
            "Source: {'producer': 'KS - PDF Engine v1.2', 'creator': 'Chromium', 'creationdate': '2024-10-24T11:10:15+00:00', 'moddate': '2024-10-24T11:10:25+00:00', 'title': 'Form 10-Q for American Airlines Group INC filed 10/24/2024', 'author': 'Kaleidoscope - kscope.io', 'subject': '10-Q filed 10/24/2024', 'keywords': 'American Airlines Group INC 10-Q', 'source': 'C:/Users/19368/Repos/Personal/Scaylor Coding Challenge/american_airlines_pdfs/Q32024.pdf', 'total_pages': 981, 'page': 28, 'page_label': '29'}\n",
            "Content: Table of Contents\n",
            "AMERICAN AIRLINES, INC.\n",
            "CONDENSED CONSOLIDATED STATEMENTS OF STOCKHOLDER’S EQUITY\n",
            "(In millions)(Unaudited)\n",
            "Common\n",
            "StockAdditional\n",
            "Paid-in\n",
            " CapitalAccumulated\n",
            "Other\n",
            " Comprehensive\n",
            " LossRetained\n",
            "Deficit Total\n",
            "Balance at December 31, 2023 $ — $17,335 $ (4,999)$(5,759)$ 6,577 \n",
            "Net loss — — — (216) (216)\n",
            "Other comprehensive income, net — — 17 — 17 \n",
            "Share-based compensation expense — 27 — — 27 \n",
            "Modification of share-based awards — (20) — — (20)\n",
            "Intercompany equity transfer — 1 — — 1 \n",
            "Balance at March 31, 2024 — 17,343 (4,982) (5,975) 6,386 \n",
            "Net income — — — 793 793 \n",
            "Other comprehensive income, net — — 19 — 19 \n",
            "Share-based compensation expense — 20 — — 20 \n",
            "Intercompany equity transfer — 1 — — 1 \n",
            "Balance at June 30, 2024 — 17,364 (4,963) (5,182) 7,219 \n",
            "Net loss — — — (41) (41)\n",
            "Other comprehensive income, net — — 23 — 23 \n",
            "Share-based compensation expense — 21 — — 21 \n",
            "Intercompany equity transfer — 1 — — 1 \n",
            "Balance at September 30, 2024 $ — $17,386 $ (4,940)$(5,223)$ 7,223\n",
            "==================================\u001b[1m Ai Message \u001b[0m==================================\n",
            "\n",
            "Here's a summary of American Airlines' condensed consolidated balance sheet as of September 30, 2024, based on the provided information:\n",
            "\n",
            "**Assets:**\n",
            "\n",
            "*   **Cash and Short-Term Investments:** $3,687 million\n",
            "*   **Total Assets:** $67,171 million\n",
            "\n",
            "**Liabilities and Stockholders' Deficit:**\n",
            "\n",
            "*   **Total Liabilities:** $54,981 million\n",
            "*   **Total Stockholders’ Deficit:** $12,190 million\n",
            "\n",
            "**Key Observations:**\n",
            "\n",
            "*   American Airlines has a significant amount of assets, but also a substantial amount of liabilities.\n",
            "*   The company has a stockholders' deficit, which means its liabilities exceed its assets.\n"
          ]
        }
      ]
    },
    {
      "cell_type": "code",
      "source": [],
      "metadata": {
        "id": "Qyo2TQnq--xt"
      },
      "execution_count": null,
      "outputs": []
    }
  ]
}